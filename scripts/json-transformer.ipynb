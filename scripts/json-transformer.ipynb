{
 "cells": [
  {
   "cell_type": "code",
   "execution_count": 1,
   "metadata": {},
   "outputs": [],
   "source": [
    "import pandas as pd\n",
    "import numpy as np\n",
    "import re\n",
    "\n",
    "from functools import reduce\n",
    "\n",
    "import general_rulings_map\n",
    "\n",
    "pd.set_option('display.max_rows', 500)"
   ]
  },
  {
   "cell_type": "code",
   "execution_count": 2,
   "metadata": {},
   "outputs": [],
   "source": [
    "master = pd.read_excel('wingspan-card-list.xlsx', sheet_name='Master')\n",
    "bonus = pd.read_excel('wingspan-card-list.xlsx', sheet_name='Bonus cards')"
   ]
  },
  {
   "cell_type": "code",
   "execution_count": 3,
   "metadata": {},
   "outputs": [],
   "source": [
    "# Isolate later expansions\n",
    "oceania = master[master['Expansion'] == 'oceania']\n",
    "oceania = oceania.sort_values(by=['Common name'], na_position='first')\n",
    "\n",
    "# Index according to legacy rules \n",
    "master = master[(master['Expansion'].isin(['originalcore', 'core', 'swiftstart', 'european', 'chinesepromo']) | pd.isna(master['Expansion']))]\n",
    "master = master.sort_values(by=['Common name'], na_position='first')\n",
    "\n",
    "### Append later expansions\n",
    "master = master.append(oceania)\n",
    "\n",
    "master = master.reset_index(drop=True)\n",
    "master = master.drop([0, 1])"
   ]
  },
  {
   "cell_type": "code",
   "execution_count": 4,
   "metadata": {},
   "outputs": [],
   "source": [
    "master['id'] = master.index\n",
    "master['Common name'] = master['Common name'].map(lambda s: s.strip())\n",
    "bonus['id'] = bonus.index + 1000"
   ]
  },
  {
   "cell_type": "code",
   "execution_count": 5,
   "metadata": {},
   "outputs": [],
   "source": [
    "master = master[master['Expansion'] != 'chinesepromo']\n",
    "master['Nest type'].loc[pd.isna(master['Nest type'])] = 'None'"
   ]
  },
  {
   "cell_type": "code",
   "execution_count": 6,
   "metadata": {},
   "outputs": [],
   "source": [
    "master_ids = reduce(lambda acc, val: {**acc, val[1]['Common name']: val[1]['id']}, master.iterrows(), {})\n",
    "bonus_ids = reduce(lambda acc, val: {**acc, val[1]['Name']: val[1]['id']}, bonus.iterrows(), {})\n",
    "ids = {**master_ids, **bonus_ids}\n",
    "\n",
    "def transform_links(link: str):\n",
    "    name = re.findall(r' applink=\"/card/([^\"]+)\"', link)[0]\n",
    "    return f' applink=\"/card/{ids[name]}\"' if name in ids else ''\n",
    "\n",
    "rulings = pd.read_csv('Wingspan - Rulings.tsv', sep='\\t', header=None, names=['id', 'general', 'specific', 'text', 'source'])\n",
    "rulings['text'] = rulings.text.map(lambda t: re.sub(r'\\\\textbf\\{([^}]+)\\}', r'<strong applink=\"/card/\\1\">\\1</strong>', re.sub(r'\\\\textit\\{([^}]+)\\}', r'<i>\\1</i>', re.sub(r\"``\", r'<i>\"', re.sub(r\"''\", r'\"</i>', t)))))\n",
    "rulings['text'] = rulings.text.map(lambda text: reduce(lambda acc, val: acc.replace(val, transform_links(val)), [x.group() for x in re.finditer( r' applink=\"/card/([^\"]+)\"', text)], text))\n",
    "\n",
    "general = rulings[~pd.isna(rulings['general'])].drop(['specific'], axis=1)\n",
    "general['general'] = general.general.map(lambda t: re.sub(r'\\$\\\\Rightarrow\\$', '➔', t))\n",
    "specific = rulings[~pd.isna(rulings['specific'])].drop(['general'], axis=1)\n",
    "specific['specific'] = specific['specific'].map(lambda s: s.strip())\n",
    "grouped = specific.groupby(by='specific').apply(lambda group: list(map(lambda t: {'text': t[0], 'source': t[1]}, zip(group['text'], group['source']))))"
   ]
  },
  {
   "cell_type": "code",
   "execution_count": 7,
   "metadata": {},
   "outputs": [
    {
     "output_type": "execute_result",
     "data": {
      "text/plain": [
       "[]"
      ]
     },
     "metadata": {},
     "execution_count": 7
    }
   ],
   "source": [
    "vals =  list(master['Common name'].values) + list(bonus['Name'].values)\n",
    "list(filter(lambda g: g not in vals, grouped.index))"
   ]
  },
  {
   "cell_type": "code",
   "execution_count": 8,
   "metadata": {},
   "outputs": [
    {
     "output_type": "execute_result",
     "data": {
      "text/plain": [
       "{'02c': 0,\n",
       " '02g': 42,\n",
       " '03a': 3,\n",
       " '20190122': 0,\n",
       " '20190205': 22,\n",
       " '20190313': 22,\n",
       " '20190601': 59,\n",
       " '20190908': 10,\n",
       " '20191010': 10,\n",
       " '20191202': 0,\n",
       " '20191203c': 0,\n",
       " '20200109a': 0,\n",
       " '20200208': 22,\n",
       " '2020022b': 4,\n",
       " '20200330': 22,\n",
       " '20200404': 253,\n",
       " '20200511': 8,\n",
       " '20200712': 0,\n",
       " '20200716a': 3,\n",
       " '20200716b': 22,\n",
       " '20201003': 0,\n",
       " '20201009': 0,\n",
       " '20201116a': 0,\n",
       " '20201117': 37,\n",
       " '20201211': 0,\n",
       " '20210101': 0,\n",
       " '20210199a': 0,\n",
       " '20210199b': 0,\n",
       " '20210206': 4,\n",
       " '20210318': 3}"
      ]
     },
     "metadata": {},
     "execution_count": 8
    }
   ],
   "source": [
    "general_dict = reduce(lambda acc, val: {**acc, val: []}, list(master['Common name']) + list(bonus['Name']), {})\n",
    "rule_counts = {}\n",
    "\n",
    "for i, rule in general.iterrows():\n",
    "    if rule['id'] in general_rulings_map.rulings:\n",
    "        rule_counter = 0\n",
    "        for j, row in master.iterrows():\n",
    "            if general_rulings_map.rulings[rule['id']](row):\n",
    "                rule_counter += 1\n",
    "                general_dict[master.loc[j, 'Common name']] += [{'id': rule['id'], 'text': rule['text'], 'source': rule['source']}]\n",
    "        rule_counts[rule['id']] = rule_counter\n",
    "    else:\n",
    "        print(f'Rule {rule[\"id\"]} not yet implemented')\n",
    "\n",
    "for rules in general_dict.values():\n",
    "    rules.sort(key=lambda key: rule_counts[key['id']])\n",
    "    for rule in rules:\n",
    "        del rule['id']\n",
    "\n",
    "rule_counts"
   ]
  },
  {
   "cell_type": "code",
   "execution_count": 9,
   "metadata": {
    "tags": []
   },
   "outputs": [],
   "source": [
    "general.reset_index(drop=True, inplace=True)\n",
    "general.drop(['id'], axis=1, inplace=True)\n",
    "general.columns = ['name', 'text', 'source']\n",
    "master['rulings'] = master['Common name'].map(lambda name: grouped[name] if name in grouped else [])\n",
    "master['additionalRulings'] = master['Common name'].map(lambda name: general_dict[name])\n",
    "bonus['rulings'] = bonus['Name'].map(lambda name: grouped[name] if name in grouped else [])"
   ]
  },
  {
   "cell_type": "code",
   "execution_count": 10,
   "metadata": {},
   "outputs": [],
   "source": [
    "master.sort_values(by='Common name', inplace=True)\n",
    "bonus.sort_values(by='Name', inplace=True)"
   ]
  },
  {
   "cell_type": "code",
   "execution_count": 11,
   "metadata": {},
   "outputs": [],
   "source": [
    "master.to_json('generated/master.json', orient='records', index=True)\n",
    "bonus.to_json('generated/bonus.json', orient='records', index=True)\n",
    "general.to_json('generated/general.json', orient='index')"
   ]
  }
 ],
 "metadata": {
  "kernelspec": {
   "name": "python383jvsc74a57bd0b3ba2566441a7c06988d0923437866b63cedc61552a5af99d1f4fb67d367b25f",
   "display_name": "Python 3.8.3 64-bit ('base': conda)"
  },
  "language_info": {
   "codemirror_mode": {
    "name": "ipython",
    "version": 3
   },
   "file_extension": ".py",
   "mimetype": "text/x-python",
   "name": "python",
   "nbconvert_exporter": "python",
   "pygments_lexer": "ipython3",
   "version": "3.8.3"
  }
 },
 "nbformat": 4,
 "nbformat_minor": 2
}